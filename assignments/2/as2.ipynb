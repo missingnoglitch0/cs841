{
 "cells": [
  {
   "cell_type": "markdown",
   "metadata": {},
   "source": [
    "# 1"
   ]
  },
  {
   "cell_type": "code",
   "execution_count": 1,
   "metadata": {},
   "outputs": [],
   "source": [
    "import numpy as np"
   ]
  },
  {
   "cell_type": "code",
   "execution_count": 5,
   "metadata": {},
   "outputs": [],
   "source": [
    "animals = ['Cow', 'Dolhpin', 'Chicken', 'Seal', 'Penguin', 'Bat']\n",
    "\n",
    "hypotheses = [\n",
    "    [1,1,0,1,0,1], # Viviparous (definitionally all mammals in set)\n",
    "    [0,0,1,0,1,0], # Oviparous\n",
    "    [0,0,1,0,1,1], # Winged\n",
    "    [0,0,1,0,1,0], # Winged non-flying\n",
    "    [1,0,1,0,1,1], # Separate 2 hind limbs\n",
    "    [0,1,0,1,1,0], # Marine habitat\n",
    "    [1,0,1,0,0,0], # Commonly found on farms\n",
    "    [0,0,0,1,1,0], # Commonly found in cold areas\n",
    "    [0,1,0,1,1,0], # Carnivorous\n",
    "    [1,0,0,0,0,0], # Herbivorous\n",
    "    [0,0,1,0,0,1], # Omnivorous\n",
    "    [1,1,1,1,1,1], # Animals\n",
    "]\n",
    "\n",
    "hypotheses = np.array(hypotheses)\n",
    "# display(hypotheses)\n",
    "\n",
    "hypotheses_names = ['Viviparous', 'Oviparous', 'Winged', 'Winged non-flying', 'Separate 2 hind limbs', 'Marine habitat', 'Commonly found on farms', 'Commonly found in cold areas', 'Carnivorous', 'Herbivorous', 'Omnivorous', 'Animals']\n",
    "hypotheses_named = {name: hypothesis for name, hypothesis in zip(hypotheses_names, hypotheses)}\n",
    "\n",
    "# display(hypotheses_named)"
   ]
  },
  {
   "cell_type": "markdown",
   "metadata": {},
   "source": [
    "# 2\n",
    "\n",
    "It is plausible to expect that, when coming up with hypotheses, I may have created more hypotheses for certain subsets of animals simply because they came to mind more readily. In the extreme, I could include many copies of nearly-identical hypotheses despite the fact that they may not be representative of all plausible hypotheses.\n",
    "\n",
    "A prior distribution I think may heuristically address this concern is to have hypothesis $h_i = [a_{i1}, a_{i_2}, \\cdots, a_{i6}]$ have a prior likelihood of $\\prod_{j \\in [1,6], a_{ij} = 1} \\frac{1}{n(j)}$, where $n(j)$ is the total number of times animal $i$ appears in hypotheses. This likelihood is normalized such that the sum of all hypotheses' prior likelihoods adds to 1. Note how this prior will not yield undefined results because an animal which appears in 0 hypotheses (hence $n(j) = 0$) will have an $a_{ij} = 0$."
   ]
  },
  {
   "cell_type": "code",
   "execution_count": 7,
   "metadata": {},
   "outputs": [
    {
     "data": {
      "text/plain": [
       "array([4, 2, 3, 2, 4, 3, 2, 2, 3, 1, 2, 6])"
      ]
     },
     "metadata": {},
     "output_type": "display_data"
    }
   ],
   "source": [
    "n_j = np.sum(hypotheses, axis=1)\n",
    "display(n_j)"
   ]
  },
  {
   "cell_type": "markdown",
   "metadata": {},
   "source": [
    "# 3"
   ]
  },
  {
   "cell_type": "markdown",
   "metadata": {},
   "source": [
    "# 4"
   ]
  },
  {
   "cell_type": "markdown",
   "metadata": {},
   "source": [
    "# 5"
   ]
  }
 ],
 "metadata": {
  "kernelspec": {
   "display_name": "3.11.10",
   "language": "python",
   "name": "python3"
  },
  "language_info": {
   "codemirror_mode": {
    "name": "ipython",
    "version": 3
   },
   "file_extension": ".py",
   "mimetype": "text/x-python",
   "name": "python",
   "nbconvert_exporter": "python",
   "pygments_lexer": "ipython3",
   "version": "3.11.10"
  }
 },
 "nbformat": 4,
 "nbformat_minor": 2
}
