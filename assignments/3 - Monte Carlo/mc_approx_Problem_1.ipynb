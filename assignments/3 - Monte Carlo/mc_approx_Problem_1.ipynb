{
 "cells": [
  {
   "cell_type": "markdown",
   "metadata": {
    "colab_type": "text",
    "id": "X6_4sYWzgjyx"
   },
   "source": [
    "## Problem 1 - Monte Carlo\n",
    "\n",
    "In this problem, you will compare two Monte Carlo methods for estimating the probability that a standard normal distribution has a value greater than two (i.e., $P(Y > 2 | Y \\sim N(0,1))$). For all parts of Problem 1, we will use $T=1000$."
   ]
  },
  {
   "cell_type": "markdown",
   "metadata": {
    "colab_type": "text",
    "id": "GoWENrDAgjyy",
    "nbgrader": {
     "grade": false,
     "grade_id": "cell-4692ba65783cc82f",
     "locked": true,
     "schema_version": 3,
     "solution": false,
     "task": false
    }
   },
   "source": [
    "### 1. (a) Naive Monte Carlo\n",
    "\n",
    "The first method we will use is naive Monte Carlo. Monte Carlo estimates the expected value of a function of a random variable. The probability a random variable is greater than two can be written as an expectation of a function of a random variable --- it is the expected number of times that the random variable is greater than two if we drew a lot of samples from the distribution. So, $P(Y > 2) = E[I(Y>2)]$, where $I(\\cdot)$ is an indicator function, which returns 1 when its argument is true and 0 otherwise.\\footnote{In your favorite programming language, it is easy to calculate the probability that a standard normal distribution is greater than two --- e.g., simply run {\\tt 1-normcdf(2,0,1) = 0.0228} in Matlab. However, I want you to implement these estimators to get a feel for how they behave.} \n",
    "\n",
    "Write code that samples $T$ standard normally distributed variables $x_{MC}^{(1)},\\ldots, x_{MC}^{(T)} \\sim N(0,1)$. Create a vector which cumulatively estimates the Monte Carlo estimate of the probability of seeing a value greater than two after observing each subsequent data point. \n",
    "\n",
    "In other words, create a vector ${\\bf f}_{MC}$ such that the value of element $t$ in ${\\bf f}_{MC}$ is the Markov Carlo estimate of the probability that a standard normal randomly generated value is greater than 2 from $t$ samples (the number of samples in $x_{MC}^{(1)},\\ldots, x_{MC}^{(t)}$ that are greater than 2). \n",
    "\n",
    "Plot ${\\bf f}_{MC}$ vector. Is there anything strange about it? (Does it look like the example we did in class of the Monte Carlo estimate of the average number of dots seen when you roll a die?) Write 1-2 sentences explaining why the plot of the updated Monte Carlo estimate looks the way it does. Also report the final estimate according to the Monte Carlo estimate ($f_{MC}(T)$)."
   ]
  },
  {
   "cell_type": "code",
   "execution_count": 1,
   "metadata": {
    "colab": {},
    "colab_type": "code",
    "id": "WwfnS1ztgjyz",
    "nbgrader": {
     "grade": true,
     "grade_id": "cell-e94ea5daaba0d252",
     "locked": false,
     "points": 0,
     "schema_version": 3,
     "solution": true,
     "task": false
    }
   },
   "outputs": [],
   "source": [
    "#fill me"
   ]
  },
  {
   "cell_type": "markdown",
   "metadata": {
    "colab_type": "text",
    "id": "kWiAv-6mgs0W"
   },
   "source": [
    "### 1. (b) Importance Sampling\n",
    "The second method we will use is called {\\em importance sampling}. This is another method for estimating the expectation of a function of a random variable. Rather than using the distribution of the random variable itself to generate samples, it uses a different distribution ($q$ -- called the {\\em proposal} distribution)\\footnote{If you are curious why we use $q$ instead of $p$ for the probability under the proposal distribution, at least one reason is to remind us that $q$ is not the actual probability., Rather, it is a surrogate that we are using as part of our approximation method.} and then re-weights each sample by how probable they would have been under the true distribution. So, if $x_{IS}^{(1)},\\dotsc,x_{IS}^{(T)}$ are my $T$ samples generated from distribution $q$ rather than $p$, my estimate would be\n",
    " \n",
    " \\begin{equation*}\n",
    " \\frac{1}{T}\\sum_{t=1}^T{\\frac{p\\left(x_{IS}^{(t)} \\right) }{q\\left(x_{IS}^{(t)}\\right) } I\\left(x_{IS}^{(t)}>2 \\right) }\n",
    " \\end{equation*}\n",
    " \n",
    " Lets apply this to calculating the probability that $X > 2$ given $X \\sim N(0,1)$. Because we are interested in the probability $X > 2$, lets use a distribution that is closer to 2:  $q=N(2,1)$.   So, samples from the proposal distribution come from $N(2,1)$ (a normal distribution with a mean of 2 and variance of 1). This can be drawn from a standard normal distribution (N(0,1)) from by adding two to a random variable generated from standard normal distribution.\n",
    "\n",
    "One way to solve the problem then is to sample each data point from $q$ and then use a function that returns the probability density of some value under a Normal distribution with a specified mean and variance. Alternatively, you could divide $p$ by $q$ explicitly. The explicit solution is\n",
    " \\begin{equation*}\n",
    " \\frac{1}{T}\\sum_{t=1}^T{ e^{-2 x_{IS}^{(t)} +2 } I (x_{IS}^{(t)} > 2)}\n",
    " \\end{equation*}\n",
    " \n",
    " Now, make the same plot as in 1a, but now using the importance sampling estimate (i.e., plot a vector ${\\bf f}^{IS}$ such that $f_t^{IS}$ is the importance sampling estimate of the probability that a standard normal randomly generated variable is greater than 2 using $q \\sim N(2,1)$ after $t$ samples). Write 1-2 sentences explaining why the plot of the updated importance sampling estimate looks the way it does. Also, please report the importance sampling estimate given all of the samples."
   ]
  },
  {
   "cell_type": "code",
   "execution_count": 2,
   "metadata": {
    "colab": {
     "base_uri": "https://localhost:8080/",
     "height": 282
    },
    "colab_type": "code",
    "id": "dYDwX_zmhLPm",
    "outputId": "f241b967-c527-4af9-fda0-f6ef29fab651"
   },
   "outputs": [],
   "source": [
    "#fill me"
   ]
  },
  {
   "cell_type": "markdown",
   "metadata": {},
   "source": [
    "### 1. (c) Compare and explain\n",
    "\n",
    "Write a few sentences comparing Figures 1a and 1b: How and why do they differ? What is a broad lesson about Monte Carlo approximation that we can learn from this comparison?"
   ]
  },
  {
   "cell_type": "markdown",
   "metadata": {},
   "source": [
    "Insert explanation here"
   ]
  }
 ],
 "metadata": {
  "celltoolbar": "Create Assignment",
  "colab": {
   "collapsed_sections": [],
   "name": "Problem 1.ipynb",
   "provenance": []
  },
  "kernelspec": {
   "display_name": "Python 3",
   "language": "python",
   "name": "python3"
  },
  "language_info": {
   "codemirror_mode": {
    "name": "ipython",
    "version": 3
   },
   "file_extension": ".py",
   "mimetype": "text/x-python",
   "name": "python",
   "nbconvert_exporter": "python",
   "pygments_lexer": "ipython3",
   "version": "3.7.6"
  }
 },
 "nbformat": 4,
 "nbformat_minor": 1
}
